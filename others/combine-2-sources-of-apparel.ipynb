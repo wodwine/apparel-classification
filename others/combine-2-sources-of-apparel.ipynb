{
 "cells": [
  {
   "cell_type": "code",
   "execution_count": 1,
   "id": "occasional-orlando",
   "metadata": {},
   "outputs": [],
   "source": [
    "import pandas as pd\n",
    "import os\n",
    "import tensorflow as tf\n",
    "import tensorflow_hub as hub\n",
    "import numpy as np"
   ]
  },
  {
   "cell_type": "code",
   "execution_count": 6,
   "id": "nominated-polymer",
   "metadata": {},
   "outputs": [],
   "source": [
    "!find . -name \".DS_Store\" -delete"
   ]
  },
  {
   "cell_type": "code",
   "execution_count": 23,
   "id": "brief-canvas",
   "metadata": {},
   "outputs": [],
   "source": [
    "def show_image(cur_dir):\n",
    "    apparel_list = []\n",
    "    df = pd.DataFrame(columns=[\"id\",\"label\"])\n",
    "    data_directory = os.listdir(\"data/apparels\")\n",
    "    for image_directory in data_directory:\n",
    "        for image in os.listdir(\"data/apparels/\"+image_directory):\n",
    "            apparel_list.append([\"data/apparels/\"+image_directory+\"/\"+image,image_directory])\n",
    "    return apparel_list"
   ]
  },
  {
   "cell_type": "code",
   "execution_count": 25,
   "id": "viral-mailing",
   "metadata": {},
   "outputs": [
    {
     "data": {
      "text/html": [
       "<div>\n",
       "<style scoped>\n",
       "    .dataframe tbody tr th:only-of-type {\n",
       "        vertical-align: middle;\n",
       "    }\n",
       "\n",
       "    .dataframe tbody tr th {\n",
       "        vertical-align: top;\n",
       "    }\n",
       "\n",
       "    .dataframe thead th {\n",
       "        text-align: right;\n",
       "    }\n",
       "</style>\n",
       "<table border=\"1\" class=\"dataframe\">\n",
       "  <thead>\n",
       "    <tr style=\"text-align: right;\">\n",
       "      <th></th>\n",
       "      <th>image</th>\n",
       "      <th>label</th>\n",
       "    </tr>\n",
       "  </thead>\n",
       "  <tbody>\n",
       "    <tr>\n",
       "      <th>0</th>\n",
       "      <td>data/apparels/Skirt/f4b934fc-e326-4f72-b535-53...</td>\n",
       "      <td>Skirt</td>\n",
       "    </tr>\n",
       "    <tr>\n",
       "      <th>1</th>\n",
       "      <td>data/apparels/Skirt/fdbcfdcd-5deb-4a20-9aef-b7...</td>\n",
       "      <td>Skirt</td>\n",
       "    </tr>\n",
       "    <tr>\n",
       "      <th>2</th>\n",
       "      <td>data/apparels/Skirt/ecfd00ef-2fe1-4778-a2a8-e9...</td>\n",
       "      <td>Skirt</td>\n",
       "    </tr>\n",
       "    <tr>\n",
       "      <th>3</th>\n",
       "      <td>data/apparels/Skirt/2ac96388-4353-44b6-a174-de...</td>\n",
       "      <td>Skirt</td>\n",
       "    </tr>\n",
       "    <tr>\n",
       "      <th>4</th>\n",
       "      <td>data/apparels/Skirt/bd289469-607c-45df-bad3-ed...</td>\n",
       "      <td>Skirt</td>\n",
       "    </tr>\n",
       "    <tr>\n",
       "      <th>...</th>\n",
       "      <td>...</td>\n",
       "      <td>...</td>\n",
       "    </tr>\n",
       "    <tr>\n",
       "      <th>11682</th>\n",
       "      <td>data/apparels/Shirt/7be93c0fe39fd61ea0c5217ea9...</td>\n",
       "      <td>Shirt</td>\n",
       "    </tr>\n",
       "    <tr>\n",
       "      <th>11683</th>\n",
       "      <td>data/apparels/Shirt/45279e1f-82af-4fe3-b0ad-2b...</td>\n",
       "      <td>Shirt</td>\n",
       "    </tr>\n",
       "    <tr>\n",
       "      <th>11684</th>\n",
       "      <td>data/apparels/Shirt/aaeccde537821c284988d61777...</td>\n",
       "      <td>Shirt</td>\n",
       "    </tr>\n",
       "    <tr>\n",
       "      <th>11685</th>\n",
       "      <td>data/apparels/Shirt/ae9cec7a-dd1d-49bc-adae-64...</td>\n",
       "      <td>Shirt</td>\n",
       "    </tr>\n",
       "    <tr>\n",
       "      <th>11686</th>\n",
       "      <td>data/apparels/Shirt/0949e8e0-c807-4b6d-8453-80...</td>\n",
       "      <td>Shirt</td>\n",
       "    </tr>\n",
       "  </tbody>\n",
       "</table>\n",
       "<p>11687 rows × 2 columns</p>\n",
       "</div>"
      ],
      "text/plain": [
       "                                                   image  label\n",
       "0      data/apparels/Skirt/f4b934fc-e326-4f72-b535-53...  Skirt\n",
       "1      data/apparels/Skirt/fdbcfdcd-5deb-4a20-9aef-b7...  Skirt\n",
       "2      data/apparels/Skirt/ecfd00ef-2fe1-4778-a2a8-e9...  Skirt\n",
       "3      data/apparels/Skirt/2ac96388-4353-44b6-a174-de...  Skirt\n",
       "4      data/apparels/Skirt/bd289469-607c-45df-bad3-ed...  Skirt\n",
       "...                                                  ...    ...\n",
       "11682  data/apparels/Shirt/7be93c0fe39fd61ea0c5217ea9...  Shirt\n",
       "11683  data/apparels/Shirt/45279e1f-82af-4fe3-b0ad-2b...  Shirt\n",
       "11684  data/apparels/Shirt/aaeccde537821c284988d61777...  Shirt\n",
       "11685  data/apparels/Shirt/ae9cec7a-dd1d-49bc-adae-64...  Shirt\n",
       "11686  data/apparels/Shirt/0949e8e0-c807-4b6d-8453-80...  Shirt\n",
       "\n",
       "[11687 rows x 2 columns]"
      ]
     },
     "execution_count": 25,
     "metadata": {},
     "output_type": "execute_result"
    }
   ],
   "source": [
    "apparel_list = show_image(os.listdir())\n",
    "new_data = pd.DataFrame(data=apparel_list,columns=[\"image\",\"label\"])\n",
    "new_data"
   ]
  },
  {
   "cell_type": "code",
   "execution_count": 26,
   "id": "secure-algeria",
   "metadata": {},
   "outputs": [
    {
     "data": {
      "text/plain": [
       "Pants         3481\n",
       "Dress         2927\n",
       "Shirt         2184\n",
       "Shorts        1230\n",
       "T-Shirt       1011\n",
       "Longsleeve     699\n",
       "Skirt          155\n",
       "Name: label, dtype: int64"
      ]
     },
     "execution_count": 26,
     "metadata": {},
     "output_type": "execute_result"
    }
   ],
   "source": [
    "new_data[\"label\"].value_counts()"
   ]
  },
  {
   "cell_type": "code",
   "execution_count": 27,
   "id": "promotional-sauce",
   "metadata": {},
   "outputs": [],
   "source": [
    "new_data.to_csv(\"data/image_labels.csv\",index=False)"
   ]
  },
  {
   "cell_type": "code",
   "execution_count": null,
   "id": "lesbian-persian",
   "metadata": {},
   "outputs": [],
   "source": []
  }
 ],
 "metadata": {
  "kernelspec": {
   "display_name": "Python 3",
   "language": "python",
   "name": "python3"
  },
  "language_info": {
   "codemirror_mode": {
    "name": "ipython",
    "version": 3
   },
   "file_extension": ".py",
   "mimetype": "text/x-python",
   "name": "python",
   "nbconvert_exporter": "python",
   "pygments_lexer": "ipython3",
   "version": "3.8.5"
  }
 },
 "nbformat": 4,
 "nbformat_minor": 5
}
